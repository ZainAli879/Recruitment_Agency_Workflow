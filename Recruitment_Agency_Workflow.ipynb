{
  "nbformat": 4,
  "nbformat_minor": 0,
  "metadata": {
    "colab": {
      "provenance": [],
      "toc_visible": true
    },
    "kernelspec": {
      "name": "python3",
      "display_name": "Python 3"
    },
    "language_info": {
      "name": "python"
    }
  },
  "cells": [
    {
      "cell_type": "code",
      "execution_count": 43,
      "metadata": {
        "colab": {
          "base_uri": "https://localhost:8080/"
        },
        "id": "lyaQiaOKxQZN",
        "outputId": "2c28af26-9254-40a3-b277-d272ebb764d2"
      },
      "outputs": [
        {
          "output_type": "stream",
          "name": "stdout",
          "text": [
            "Requirement already satisfied: langchain in /usr/local/lib/python3.11/dist-packages (0.3.25)\n",
            "Requirement already satisfied: langchain_core in /usr/local/lib/python3.11/dist-packages (0.3.61)\n",
            "Requirement already satisfied: langchain_community in /usr/local/lib/python3.11/dist-packages (0.3.24)\n",
            "Requirement already satisfied: langgraph in /usr/local/lib/python3.11/dist-packages (0.4.7)\n",
            "Requirement already satisfied: langchain_openai in /usr/local/lib/python3.11/dist-packages (0.3.18)\n",
            "Requirement already satisfied: langchain-text-splitters<1.0.0,>=0.3.8 in /usr/local/lib/python3.11/dist-packages (from langchain) (0.3.8)\n",
            "Requirement already satisfied: langsmith<0.4,>=0.1.17 in /usr/local/lib/python3.11/dist-packages (from langchain) (0.3.42)\n",
            "Requirement already satisfied: pydantic<3.0.0,>=2.7.4 in /usr/local/lib/python3.11/dist-packages (from langchain) (2.11.4)\n",
            "Requirement already satisfied: SQLAlchemy<3,>=1.4 in /usr/local/lib/python3.11/dist-packages (from langchain) (2.0.40)\n",
            "Requirement already satisfied: requests<3,>=2 in /usr/local/lib/python3.11/dist-packages (from langchain) (2.32.3)\n",
            "Requirement already satisfied: PyYAML>=5.3 in /usr/local/lib/python3.11/dist-packages (from langchain) (6.0.2)\n",
            "Requirement already satisfied: tenacity!=8.4.0,<10.0.0,>=8.1.0 in /usr/local/lib/python3.11/dist-packages (from langchain_core) (9.1.2)\n",
            "Requirement already satisfied: jsonpatch<2.0,>=1.33 in /usr/local/lib/python3.11/dist-packages (from langchain_core) (1.33)\n",
            "Requirement already satisfied: packaging<25,>=23.2 in /usr/local/lib/python3.11/dist-packages (from langchain_core) (24.2)\n",
            "Requirement already satisfied: typing-extensions>=4.7 in /usr/local/lib/python3.11/dist-packages (from langchain_core) (4.13.2)\n",
            "Requirement already satisfied: aiohttp<4.0.0,>=3.8.3 in /usr/local/lib/python3.11/dist-packages (from langchain_community) (3.11.15)\n",
            "Requirement already satisfied: dataclasses-json<0.7,>=0.5.7 in /usr/local/lib/python3.11/dist-packages (from langchain_community) (0.6.7)\n",
            "Requirement already satisfied: pydantic-settings<3.0.0,>=2.4.0 in /usr/local/lib/python3.11/dist-packages (from langchain_community) (2.9.1)\n",
            "Requirement already satisfied: httpx-sse<1.0.0,>=0.4.0 in /usr/local/lib/python3.11/dist-packages (from langchain_community) (0.4.0)\n",
            "Requirement already satisfied: numpy>=1.26.2 in /usr/local/lib/python3.11/dist-packages (from langchain_community) (2.0.2)\n",
            "Requirement already satisfied: langgraph-checkpoint>=2.0.26 in /usr/local/lib/python3.11/dist-packages (from langgraph) (2.0.26)\n",
            "Requirement already satisfied: langgraph-prebuilt>=0.2.0 in /usr/local/lib/python3.11/dist-packages (from langgraph) (0.2.1)\n",
            "Requirement already satisfied: langgraph-sdk>=0.1.42 in /usr/local/lib/python3.11/dist-packages (from langgraph) (0.1.70)\n",
            "Requirement already satisfied: xxhash>=3.5.0 in /usr/local/lib/python3.11/dist-packages (from langgraph) (3.5.0)\n",
            "Requirement already satisfied: openai<2.0.0,>=1.68.2 in /usr/local/lib/python3.11/dist-packages (from langchain_openai) (1.78.1)\n",
            "Requirement already satisfied: tiktoken<1,>=0.7 in /usr/local/lib/python3.11/dist-packages (from langchain_openai) (0.9.0)\n",
            "Requirement already satisfied: aiohappyeyeballs>=2.3.0 in /usr/local/lib/python3.11/dist-packages (from aiohttp<4.0.0,>=3.8.3->langchain_community) (2.6.1)\n",
            "Requirement already satisfied: aiosignal>=1.1.2 in /usr/local/lib/python3.11/dist-packages (from aiohttp<4.0.0,>=3.8.3->langchain_community) (1.3.2)\n",
            "Requirement already satisfied: attrs>=17.3.0 in /usr/local/lib/python3.11/dist-packages (from aiohttp<4.0.0,>=3.8.3->langchain_community) (25.3.0)\n",
            "Requirement already satisfied: frozenlist>=1.1.1 in /usr/local/lib/python3.11/dist-packages (from aiohttp<4.0.0,>=3.8.3->langchain_community) (1.6.0)\n",
            "Requirement already satisfied: multidict<7.0,>=4.5 in /usr/local/lib/python3.11/dist-packages (from aiohttp<4.0.0,>=3.8.3->langchain_community) (6.4.3)\n",
            "Requirement already satisfied: propcache>=0.2.0 in /usr/local/lib/python3.11/dist-packages (from aiohttp<4.0.0,>=3.8.3->langchain_community) (0.3.1)\n",
            "Requirement already satisfied: yarl<2.0,>=1.17.0 in /usr/local/lib/python3.11/dist-packages (from aiohttp<4.0.0,>=3.8.3->langchain_community) (1.20.0)\n",
            "Requirement already satisfied: marshmallow<4.0.0,>=3.18.0 in /usr/local/lib/python3.11/dist-packages (from dataclasses-json<0.7,>=0.5.7->langchain_community) (3.26.1)\n",
            "Requirement already satisfied: typing-inspect<1,>=0.4.0 in /usr/local/lib/python3.11/dist-packages (from dataclasses-json<0.7,>=0.5.7->langchain_community) (0.9.0)\n",
            "Requirement already satisfied: jsonpointer>=1.9 in /usr/local/lib/python3.11/dist-packages (from jsonpatch<2.0,>=1.33->langchain_core) (3.0.0)\n",
            "Requirement already satisfied: ormsgpack<2.0.0,>=1.8.0 in /usr/local/lib/python3.11/dist-packages (from langgraph-checkpoint>=2.0.26->langgraph) (1.10.0)\n",
            "Requirement already satisfied: httpx>=0.25.2 in /usr/local/lib/python3.11/dist-packages (from langgraph-sdk>=0.1.42->langgraph) (0.28.1)\n",
            "Requirement already satisfied: orjson>=3.10.1 in /usr/local/lib/python3.11/dist-packages (from langgraph-sdk>=0.1.42->langgraph) (3.10.18)\n",
            "Requirement already satisfied: requests-toolbelt<2.0.0,>=1.0.0 in /usr/local/lib/python3.11/dist-packages (from langsmith<0.4,>=0.1.17->langchain) (1.0.0)\n",
            "Requirement already satisfied: zstandard<0.24.0,>=0.23.0 in /usr/local/lib/python3.11/dist-packages (from langsmith<0.4,>=0.1.17->langchain) (0.23.0)\n",
            "Requirement already satisfied: anyio<5,>=3.5.0 in /usr/local/lib/python3.11/dist-packages (from openai<2.0.0,>=1.68.2->langchain_openai) (4.9.0)\n",
            "Requirement already satisfied: distro<2,>=1.7.0 in /usr/local/lib/python3.11/dist-packages (from openai<2.0.0,>=1.68.2->langchain_openai) (1.9.0)\n",
            "Requirement already satisfied: jiter<1,>=0.4.0 in /usr/local/lib/python3.11/dist-packages (from openai<2.0.0,>=1.68.2->langchain_openai) (0.9.0)\n",
            "Requirement already satisfied: sniffio in /usr/local/lib/python3.11/dist-packages (from openai<2.0.0,>=1.68.2->langchain_openai) (1.3.1)\n",
            "Requirement already satisfied: tqdm>4 in /usr/local/lib/python3.11/dist-packages (from openai<2.0.0,>=1.68.2->langchain_openai) (4.67.1)\n",
            "Requirement already satisfied: annotated-types>=0.6.0 in /usr/local/lib/python3.11/dist-packages (from pydantic<3.0.0,>=2.7.4->langchain) (0.7.0)\n",
            "Requirement already satisfied: pydantic-core==2.33.2 in /usr/local/lib/python3.11/dist-packages (from pydantic<3.0.0,>=2.7.4->langchain) (2.33.2)\n",
            "Requirement already satisfied: typing-inspection>=0.4.0 in /usr/local/lib/python3.11/dist-packages (from pydantic<3.0.0,>=2.7.4->langchain) (0.4.0)\n",
            "Requirement already satisfied: python-dotenv>=0.21.0 in /usr/local/lib/python3.11/dist-packages (from pydantic-settings<3.0.0,>=2.4.0->langchain_community) (1.1.0)\n",
            "Requirement already satisfied: charset-normalizer<4,>=2 in /usr/local/lib/python3.11/dist-packages (from requests<3,>=2->langchain) (3.4.2)\n",
            "Requirement already satisfied: idna<4,>=2.5 in /usr/local/lib/python3.11/dist-packages (from requests<3,>=2->langchain) (3.10)\n",
            "Requirement already satisfied: urllib3<3,>=1.21.1 in /usr/local/lib/python3.11/dist-packages (from requests<3,>=2->langchain) (2.4.0)\n",
            "Requirement already satisfied: certifi>=2017.4.17 in /usr/local/lib/python3.11/dist-packages (from requests<3,>=2->langchain) (2025.4.26)\n",
            "Requirement already satisfied: greenlet>=1 in /usr/local/lib/python3.11/dist-packages (from SQLAlchemy<3,>=1.4->langchain) (3.2.2)\n",
            "Requirement already satisfied: regex>=2022.1.18 in /usr/local/lib/python3.11/dist-packages (from tiktoken<1,>=0.7->langchain_openai) (2024.11.6)\n",
            "Requirement already satisfied: httpcore==1.* in /usr/local/lib/python3.11/dist-packages (from httpx>=0.25.2->langgraph-sdk>=0.1.42->langgraph) (1.0.9)\n",
            "Requirement already satisfied: h11>=0.16 in /usr/local/lib/python3.11/dist-packages (from httpcore==1.*->httpx>=0.25.2->langgraph-sdk>=0.1.42->langgraph) (0.16.0)\n",
            "Requirement already satisfied: mypy-extensions>=0.3.0 in /usr/local/lib/python3.11/dist-packages (from typing-inspect<1,>=0.4.0->dataclasses-json<0.7,>=0.5.7->langchain_community) (1.1.0)\n"
          ]
        }
      ],
      "source": [
        "!pip install langchain langchain_core langchain_community langgraph langchain_openai"
      ]
    },
    {
      "cell_type": "code",
      "source": [
        "from google.colab import userdata\n",
        "import os\n",
        "os.environ['OPENAI_API_KEY'] = userdata.get('OPENAI_API_KEY')"
      ],
      "metadata": {
        "id": "_44bymdC05HI"
      },
      "execution_count": 44,
      "outputs": []
    },
    {
      "cell_type": "code",
      "source": [
        "from langchain_openai.chat_models import ChatOpenAI\n",
        "\n",
        "llm = ChatOpenAI()"
      ],
      "metadata": {
        "id": "RYGlgnSb2b9H"
      },
      "execution_count": 46,
      "outputs": []
    },
    {
      "cell_type": "code",
      "source": [
        "llm.invoke(\"Who is the pm of Pakistan\")"
      ],
      "metadata": {
        "colab": {
          "base_uri": "https://localhost:8080/"
        },
        "id": "vQYtu_p9oc0l",
        "outputId": "0f0bc9ff-0c9d-4099-979c-394f8aea6360"
      },
      "execution_count": 47,
      "outputs": [
        {
          "output_type": "execute_result",
          "data": {
            "text/plain": [
              "AIMessage(content='As of June 2024, the **Prime Minister of Pakistan** is **Shehbaz Sharif**. He was elected Prime Minister following the general elections held in February 2024.', additional_kwargs={'refusal': None}, response_metadata={'token_usage': {'completion_tokens': 40, 'prompt_tokens': 13, 'total_tokens': 53, 'completion_tokens_details': {'accepted_prediction_tokens': 0, 'audio_tokens': 0, 'reasoning_tokens': 0, 'rejected_prediction_tokens': 0}, 'prompt_tokens_details': {'audio_tokens': 0, 'cached_tokens': 0}}, 'model_name': 'gpt-4.1-2025-04-14', 'system_fingerprint': 'fp_07e970ab25', 'id': 'chatcmpl-BbjHojEOf60n8GCQIY2EeeVOonyWH', 'service_tier': None, 'finish_reason': 'stop', 'logprobs': None}, id='run--a2f0c24e-5a73-4e6f-b834-681befb93fb3-0', usage_metadata={'input_tokens': 13, 'output_tokens': 40, 'total_tokens': 53, 'input_token_details': {'audio': 0, 'cache_read': 0}, 'output_token_details': {'audio': 0, 'reasoning': 0}})"
            ]
          },
          "metadata": {},
          "execution_count": 47
        }
      ]
    },
    {
      "cell_type": "code",
      "source": [
        "from typing_extensions import TypedDict\n",
        "class State(TypedDict):\n",
        "  application: str\n",
        "  experience_level: str\n",
        "  skill_match : str\n",
        "  response: str"
      ],
      "metadata": {
        "id": "CNn_I9Im3rdX"
      },
      "execution_count": 48,
      "outputs": []
    },
    {
      "cell_type": "code",
      "source": [
        "from langgraph.graph import StateGraph, START, END\n",
        "\n",
        "workflow = StateGraph(State)"
      ],
      "metadata": {
        "id": "zeJmGNkHN3g2"
      },
      "execution_count": 49,
      "outputs": []
    },
    {
      "cell_type": "code",
      "source": [
        "from langchain_core.prompts import ChatPromptTemplate"
      ],
      "metadata": {
        "id": "aDmawPyFV92e"
      },
      "execution_count": 50,
      "outputs": []
    },
    {
      "cell_type": "code",
      "source": [
        "def categorize_experience(state: State) -> State:\n",
        "  print(\"\\nCategorizing the experience level of candidate : \")\n",
        "  prompt = ChatPromptTemplate.from_template(\n",
        "    '''Based on the following job application, classify the candidate as strictly one of the following:\n",
        "    - Entry-level\n",
        "    - Mid-level\n",
        "    - Senior-level\n",
        "\n",
        "    Do not explain. Return only one of the three terms without any additional text.\n",
        "\n",
        "    Application : {application}'''\n",
        "  )\n",
        "  chain = prompt | llm\n",
        "  experience_level = chain.invoke({\"application\": state[\"application\"]}).content\n",
        "  print(f\"Experience Level : {experience_level}\")\n",
        "  return {\"experience_level\" : experience_level}\n",
        "\n",
        "def assess_skillset(state: State) -> State:\n",
        "  print(\"\\nAssessing the skillset of candidate : \")\n",
        "  prompt = ChatPromptTemplate.from_template(\n",
        "      \"Based on the job application for a Python Developer, assess the candidate's skillset\"\n",
        "      \"Respond with either 'Match' or 'No Match' and Do not explain. Return only one of the two terms without any additional text.\"\n",
        "      \"Application : {application}\"\n",
        "  )\n",
        "  chain = prompt | llm\n",
        "  skill_match = chain.invoke({\"application\": state[\"application\"]}).content\n",
        "  print(f\"Skill Match : {skill_match}\")\n",
        "  return {\"skill_match\" : skill_match}\n",
        "\n",
        "def schedule_hr_interview(state: State) -> State:\n",
        "  print(\"\\nScheduling the interview : \")\n",
        "  return {\"response\" : \"Candidate has been shortlisted for an HR interview.\"}\n",
        "\n",
        "def escalate_to_recruiter(state: State) -> State:\n",
        "  print(\"Escalating to recruiter\")\n",
        "  return {\"response\" : \"Candidate has senior-level experience but doesn't match job skills.\"}\n",
        "\n",
        "def reject_application(state: State) -> State:\n",
        "  print(\"Sending rejecting email\")\n",
        "  return {\"response\" : \"Candidate doesn't meet JD and has been rejected.\"}"
      ],
      "metadata": {
        "id": "siRlGmb5Vs1r"
      },
      "execution_count": 51,
      "outputs": []
    },
    {
      "cell_type": "code",
      "source": [
        "workflow.add_node(\"categorize_experience\", categorize_experience)\n",
        "workflow.add_node(\"assess_skillset\", assess_skillset)\n",
        "workflow.add_node(\"schedule_hr_interview\", schedule_hr_interview)\n",
        "workflow.add_node(\"escalate_to_recruiter\", escalate_to_recruiter)\n",
        "workflow.add_node(\"reject_application\", reject_application)"
      ],
      "metadata": {
        "colab": {
          "base_uri": "https://localhost:8080/"
        },
        "id": "VbZAi69cY8KL",
        "outputId": "8d16d9a9-5ed9-46be-a415-7df1d3168258"
      },
      "execution_count": 52,
      "outputs": [
        {
          "output_type": "execute_result",
          "data": {
            "text/plain": [
              "<langgraph.graph.state.StateGraph at 0x7960b77f1b90>"
            ]
          },
          "metadata": {},
          "execution_count": 52
        }
      ]
    },
    {
      "cell_type": "code",
      "source": [
        "def route_app(state: State) -> str:\n",
        "  if(state[\"skill_match\"] == \"Match\"):\n",
        "    return \"schedule_hr_interview\"\n",
        "  elif(state[\"experience_level\"] == \"Senior-level\"):\n",
        "    return \"escalate_to_recruiter\"\n",
        "  else:\n",
        "    return \"reject_application\""
      ],
      "metadata": {
        "id": "O41S6ohmeqNI"
      },
      "execution_count": 53,
      "outputs": []
    },
    {
      "cell_type": "code",
      "source": [
        "workflow.add_edge(\"categorize_experience\", \"assess_skillset\")\n",
        "workflow.add_conditional_edges(\"assess_skillset\", route_app)"
      ],
      "metadata": {
        "colab": {
          "base_uri": "https://localhost:8080/"
        },
        "id": "l7G8RRgScdGD",
        "outputId": "30368d8d-245e-4ce7-d2d4-e3946d7453f9"
      },
      "execution_count": 54,
      "outputs": [
        {
          "output_type": "execute_result",
          "data": {
            "text/plain": [
              "<langgraph.graph.state.StateGraph at 0x7960b77f1b90>"
            ]
          },
          "metadata": {},
          "execution_count": 54
        }
      ]
    },
    {
      "cell_type": "code",
      "source": [
        "workflow.add_edge(START, \"categorize_experience\")\n",
        "workflow.add_edge(\"assess_skillset\", END)\n",
        "workflow.add_edge(\"escalate_to_recruiter\", END)\n",
        "workflow.add_edge(\"reject_application\", END)\n",
        "workflow.add_edge(\"schedule_hr_interview\", END)"
      ],
      "metadata": {
        "colab": {
          "base_uri": "https://localhost:8080/"
        },
        "id": "9bf0lAiDfXcO",
        "outputId": "84143181-d156-4b90-b6bc-46b5db6b8bb3"
      },
      "execution_count": 55,
      "outputs": [
        {
          "output_type": "execute_result",
          "data": {
            "text/plain": [
              "<langgraph.graph.state.StateGraph at 0x7960b77f1b90>"
            ]
          },
          "metadata": {},
          "execution_count": 55
        }
      ]
    },
    {
      "cell_type": "code",
      "source": [
        "app = workflow.compile()"
      ],
      "metadata": {
        "id": "LcUdHP1ThdR6"
      },
      "execution_count": 56,
      "outputs": []
    },
    {
      "cell_type": "code",
      "source": [
        "def run_candidate_screening(application: str):\n",
        "  results = app.invoke({\"application\" : application})\n",
        "  return {\n",
        "      \"experience_level\" : results[\"experience_level\"],\n",
        "      \"skill_match\" : results[\"skill_match\"],\n",
        "      \"response\" : results[\"response\"]\n",
        "  }"
      ],
      "metadata": {
        "id": "LPl1be-Ei-Pv"
      },
      "execution_count": 58,
      "outputs": []
    },
    {
      "cell_type": "code",
      "source": [
        "application_text = \"I have 10 years of experience in software engineering with expertise in JAVA\"\n",
        "results = run_candidate_screening(application_text)\n",
        "print(\"\\n\\nComputed Results :\")\n",
        "print(f\"Application: {application_text}\")\n",
        "print(f\"Experience Level: {results['experience_level']}\")\n",
        "print(f\"Skill Match: {results['skill_match']}\")\n",
        "print(f\"Response: {results['response']}\")"
      ],
      "metadata": {
        "colab": {
          "base_uri": "https://localhost:8080/"
        },
        "id": "afvj3M4VkDIp",
        "outputId": "5dfd6691-d0de-497d-d6fd-23b6295999da"
      },
      "execution_count": 84,
      "outputs": [
        {
          "output_type": "stream",
          "name": "stdout",
          "text": [
            "\n",
            "Categorizing the experience level of candidate : \n",
            "Experience Level : Senior-level\n",
            "\n",
            "Assessing the skillset of candidate : \n",
            "Skill Match : No Match\n",
            "Escalating to recruiter\n",
            "\n",
            "\n",
            "Computed Results :\n",
            "Application: I have 10 years of experience in software engineering with expertise in JAVA\n",
            "Experience Level: Senior-level\n",
            "Skill Match: No Match\n",
            "Response: Candidate has senior-level experience but doesn't match job skills.\n"
          ]
        }
      ]
    },
    {
      "cell_type": "code",
      "source": [
        "application_text = \"I have 1 year of experience in software engineering with expertise in JAVA\"\n",
        "results = run_candidate_screening(application_text)\n",
        "print(\"\\n\\nComputed Results :\")\n",
        "print(f\"Application: {application_text}\")\n",
        "print(f\"Experience Level: {results['experience_level']}\")\n",
        "print(f\"Skill Match: {results['skill_match']}\")\n",
        "print(f\"Response: {results['response']}\")"
      ],
      "metadata": {
        "colab": {
          "base_uri": "https://localhost:8080/"
        },
        "id": "x_vP7jkHkaza",
        "outputId": "da870f13-e094-4a80-a98c-6b7e92edf449"
      },
      "execution_count": 60,
      "outputs": [
        {
          "output_type": "stream",
          "name": "stdout",
          "text": [
            "\n",
            "Categorizing the experience level of candidate : \n",
            "Experience Level : Entry-level\n",
            "\n",
            "Assessing the skillset of candidate : \n",
            "Skill Match : No Match\n",
            "Sending rejecting email\n",
            "\n",
            "\n",
            "Computed Results :\n",
            "Application: I have 1 year of experience in software engineering with expertise in JAVA\n",
            "Experience Level: Entry-level\n",
            "Skill Match: No Match\n",
            "Response: Candidate doesn't meet JD and has been rejected.\n"
          ]
        }
      ]
    },
    {
      "cell_type": "code",
      "source": [
        "application_text = \"I have experience in software engineering with expertise in Python\"\n",
        "results = run_candidate_screening(application_text)\n",
        "print(\"\\n\\nComputed Results :\")\n",
        "print(f\"Application: {application_text}\")\n",
        "print(f\"Experience Level: {results['experience_level']}\")\n",
        "print(f\"Skill Match: {results['skill_match']}\")\n",
        "print(f\"Response: {results['response']}\")"
      ],
      "metadata": {
        "colab": {
          "base_uri": "https://localhost:8080/"
        },
        "id": "MYGu49hLklLx",
        "outputId": "5d45ac41-25e3-43ad-d820-d5c62b812580"
      },
      "execution_count": 61,
      "outputs": [
        {
          "output_type": "stream",
          "name": "stdout",
          "text": [
            "\n",
            "Categorizing the experience level of candidate : \n",
            "Experience Level : Entry-level\n",
            "\n",
            "Assessing the skillset of candidate : \n",
            "Skill Match : Match\n",
            "\n",
            "Scheduling the interview : \n",
            "\n",
            "\n",
            "Computed Results :\n",
            "Application: I have experience in software engineering with expertise in Python\n",
            "Experience Level: Entry-level\n",
            "Skill Match: Match\n",
            "Response: Candidate has been shortlisted for an HR interview.\n"
          ]
        }
      ]
    },
    {
      "cell_type": "code",
      "source": [
        "application_text = \"I have 10 years of experience in software engineering with expertise in python\"\n",
        "results = run_candidate_screening(application_text)\n",
        "print(\"\\n\\nComputed Results :\")\n",
        "print(f\"Application: {application_text}\")\n",
        "print(f\"Experience Level: {results['experience_level']}\")\n",
        "print(f\"Skill Match: {results['skill_match']}\")\n",
        "print(f\"Response: {results['response']}\")"
      ],
      "metadata": {
        "colab": {
          "base_uri": "https://localhost:8080/"
        },
        "id": "dayX1n2zktX3",
        "outputId": "dcdbf259-e4c4-4be7-94e0-6cd4ee28e6eb"
      },
      "execution_count": 64,
      "outputs": [
        {
          "output_type": "stream",
          "name": "stdout",
          "text": [
            "\n",
            "Categorizing the experience level of candidate : \n",
            "Experience Level : Senior-level\n",
            "\n",
            "Assessing the skillset of candidate : \n",
            "Skill Match : Match\n",
            "\n",
            "Scheduling the interview : \n",
            "\n",
            "\n",
            "Computed Results :\n",
            "Application: I have 10 years of experience in software engineering with expertise in python\n",
            "Experience Level: Senior-level\n",
            "Skill Match: Match\n",
            "Response: Candidate has been shortlisted for an HR interview.\n"
          ]
        }
      ]
    },
    {
      "cell_type": "code",
      "source": [],
      "metadata": {
        "id": "GRwnaqWfkyd4"
      },
      "execution_count": 62,
      "outputs": []
    }
  ]
}